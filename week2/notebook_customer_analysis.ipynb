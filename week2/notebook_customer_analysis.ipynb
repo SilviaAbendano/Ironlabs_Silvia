{
 "cells": [
  {
   "cell_type": "markdown",
   "metadata": {},
   "source": [
    "# Activity 1\n"
   ]
  },
  {
   "cell_type": "code",
   "execution_count": 684,
   "metadata": {},
   "outputs": [],
   "source": [
    "import pandas as pd\n",
    "import numpy as np\n",
    "import matplotlib.pyplot as plt\n",
    "%matplotlib inline\n",
    "import seaborn as sns"
   ]
  },
  {
   "cell_type": "markdown",
   "metadata": {},
   "source": [
    "- Aggregate data into one Data Frame using Pandas."
   ]
  },
  {
   "cell_type": "code",
   "execution_count": 685,
   "metadata": {},
   "outputs": [
    {
     "name": "stdout",
     "output_type": "stream",
     "text": [
      "<class 'pandas.core.frame.DataFrame'>\n",
      "RangeIndex: 10910 entries, 0 to 10909\n",
      "Data columns (total 13 columns):\n",
      " #   Column                     Non-Null Count  Dtype  \n",
      "---  ------                     --------------  -----  \n",
      " 0   Unnamed: 0                 10910 non-null  int64  \n",
      " 1   state                      10279 non-null  object \n",
      " 2   customer lifetime value    10910 non-null  float64\n",
      " 3   education                  10910 non-null  object \n",
      " 4   gender                     10910 non-null  object \n",
      " 5   income                     10910 non-null  int64  \n",
      " 6   monthly premium auto       10910 non-null  int64  \n",
      " 7   number of open complaints  10277 non-null  float64\n",
      " 8   policy type                10910 non-null  object \n",
      " 9   total claim amount         10910 non-null  float64\n",
      " 10  vehicle class              10288 non-null  object \n",
      " 11  sales channel              10910 non-null  object \n",
      " 12  response                   10279 non-null  object \n",
      "dtypes: float64(3), int64(3), object(7)\n",
      "memory usage: 1.1+ MB\n"
     ]
    }
   ],
   "source": [
    "# Read files from csv\n",
    "\n",
    "df = pd.read_csv(\"../data/customer_analayiss_case_study_with_response.csv\")\n",
    "df.info()"
   ]
  },
  {
   "cell_type": "markdown",
   "metadata": {},
   "source": [
    " - Deleting and rearranging columns – delete the column customer as it is only a unique identifier for each row of data\n"
   ]
  },
  {
   "cell_type": "code",
   "execution_count": 686,
   "metadata": {},
   "outputs": [
    {
     "data": {
      "text/plain": [
       "['Unnamed: 0',\n",
       " 'state',\n",
       " 'customer lifetime value',\n",
       " 'education',\n",
       " 'gender',\n",
       " 'income',\n",
       " 'monthly premium auto',\n",
       " 'number of open complaints',\n",
       " 'policy type',\n",
       " 'total claim amount',\n",
       " 'vehicle class',\n",
       " 'sales channel',\n",
       " 'response']"
      ]
     },
     "execution_count": 686,
     "metadata": {},
     "output_type": "execute_result"
    }
   ],
   "source": [
    "# Identify the columns in the data frame\n",
    "\n",
    "list(df.columns)"
   ]
  },
  {
   "cell_type": "code",
   "execution_count": 687,
   "metadata": {},
   "outputs": [
    {
     "data": {
      "text/html": [
       "<div>\n",
       "<style scoped>\n",
       "    .dataframe tbody tr th:only-of-type {\n",
       "        vertical-align: middle;\n",
       "    }\n",
       "\n",
       "    .dataframe tbody tr th {\n",
       "        vertical-align: top;\n",
       "    }\n",
       "\n",
       "    .dataframe thead th {\n",
       "        text-align: right;\n",
       "    }\n",
       "</style>\n",
       "<table border=\"1\" class=\"dataframe\">\n",
       "  <thead>\n",
       "    <tr style=\"text-align: right;\">\n",
       "      <th></th>\n",
       "      <th>unnamed: 0</th>\n",
       "      <th>state</th>\n",
       "      <th>customer lifetime value</th>\n",
       "      <th>education</th>\n",
       "      <th>gender</th>\n",
       "      <th>income</th>\n",
       "      <th>monthly premium auto</th>\n",
       "      <th>number of open complaints</th>\n",
       "      <th>policy type</th>\n",
       "      <th>total claim amount</th>\n",
       "      <th>vehicle class</th>\n",
       "      <th>sales channel</th>\n",
       "      <th>response</th>\n",
       "    </tr>\n",
       "  </thead>\n",
       "  <tbody>\n",
       "    <tr>\n",
       "      <th>0</th>\n",
       "      <td>0</td>\n",
       "      <td>Arizona</td>\n",
       "      <td>4809.216960</td>\n",
       "      <td>College</td>\n",
       "      <td>M</td>\n",
       "      <td>48029</td>\n",
       "      <td>61</td>\n",
       "      <td>0.0</td>\n",
       "      <td>Corporate Auto</td>\n",
       "      <td>292.800000</td>\n",
       "      <td>Four-Door Car</td>\n",
       "      <td>Agent</td>\n",
       "      <td>No</td>\n",
       "    </tr>\n",
       "    <tr>\n",
       "      <th>1</th>\n",
       "      <td>1</td>\n",
       "      <td>California</td>\n",
       "      <td>2228.525238</td>\n",
       "      <td>College</td>\n",
       "      <td>F</td>\n",
       "      <td>0</td>\n",
       "      <td>64</td>\n",
       "      <td>0.0</td>\n",
       "      <td>Personal Auto</td>\n",
       "      <td>744.924331</td>\n",
       "      <td>Four-Door Car</td>\n",
       "      <td>Call Center</td>\n",
       "      <td>No</td>\n",
       "    </tr>\n",
       "    <tr>\n",
       "      <th>2</th>\n",
       "      <td>2</td>\n",
       "      <td>Washington</td>\n",
       "      <td>14947.917300</td>\n",
       "      <td>Bachelor</td>\n",
       "      <td>M</td>\n",
       "      <td>22139</td>\n",
       "      <td>100</td>\n",
       "      <td>0.0</td>\n",
       "      <td>Personal Auto</td>\n",
       "      <td>480.000000</td>\n",
       "      <td>SUV</td>\n",
       "      <td>Call Center</td>\n",
       "      <td>No</td>\n",
       "    </tr>\n",
       "    <tr>\n",
       "      <th>3</th>\n",
       "      <td>3</td>\n",
       "      <td>Oregon</td>\n",
       "      <td>22332.439460</td>\n",
       "      <td>College</td>\n",
       "      <td>M</td>\n",
       "      <td>49078</td>\n",
       "      <td>97</td>\n",
       "      <td>0.0</td>\n",
       "      <td>Corporate Auto</td>\n",
       "      <td>484.013411</td>\n",
       "      <td>Four-Door Car</td>\n",
       "      <td>Branch</td>\n",
       "      <td>Yes</td>\n",
       "    </tr>\n",
       "    <tr>\n",
       "      <th>4</th>\n",
       "      <td>4</td>\n",
       "      <td>Oregon</td>\n",
       "      <td>9025.067525</td>\n",
       "      <td>Bachelor</td>\n",
       "      <td>F</td>\n",
       "      <td>23675</td>\n",
       "      <td>117</td>\n",
       "      <td>NaN</td>\n",
       "      <td>Personal Auto</td>\n",
       "      <td>707.925645</td>\n",
       "      <td>Four-Door Car</td>\n",
       "      <td>Branch</td>\n",
       "      <td>No</td>\n",
       "    </tr>\n",
       "    <tr>\n",
       "      <th>...</th>\n",
       "      <td>...</td>\n",
       "      <td>...</td>\n",
       "      <td>...</td>\n",
       "      <td>...</td>\n",
       "      <td>...</td>\n",
       "      <td>...</td>\n",
       "      <td>...</td>\n",
       "      <td>...</td>\n",
       "      <td>...</td>\n",
       "      <td>...</td>\n",
       "      <td>...</td>\n",
       "      <td>...</td>\n",
       "      <td>...</td>\n",
       "    </tr>\n",
       "    <tr>\n",
       "      <th>10905</th>\n",
       "      <td>10905</td>\n",
       "      <td>Nevada</td>\n",
       "      <td>15563.369440</td>\n",
       "      <td>Bachelor</td>\n",
       "      <td>F</td>\n",
       "      <td>0</td>\n",
       "      <td>253</td>\n",
       "      <td>NaN</td>\n",
       "      <td>Personal Auto</td>\n",
       "      <td>1214.400000</td>\n",
       "      <td>Luxury Car</td>\n",
       "      <td>Web</td>\n",
       "      <td>No</td>\n",
       "    </tr>\n",
       "    <tr>\n",
       "      <th>10906</th>\n",
       "      <td>10906</td>\n",
       "      <td>Oregon</td>\n",
       "      <td>5259.444853</td>\n",
       "      <td>College</td>\n",
       "      <td>F</td>\n",
       "      <td>61146</td>\n",
       "      <td>65</td>\n",
       "      <td>0.0</td>\n",
       "      <td>Personal Auto</td>\n",
       "      <td>273.018929</td>\n",
       "      <td>Four-Door Car</td>\n",
       "      <td>Branch</td>\n",
       "      <td>No</td>\n",
       "    </tr>\n",
       "    <tr>\n",
       "      <th>10907</th>\n",
       "      <td>10907</td>\n",
       "      <td>Arizona</td>\n",
       "      <td>23893.304100</td>\n",
       "      <td>Bachelor</td>\n",
       "      <td>F</td>\n",
       "      <td>39837</td>\n",
       "      <td>201</td>\n",
       "      <td>0.0</td>\n",
       "      <td>Corporate Auto</td>\n",
       "      <td>381.306996</td>\n",
       "      <td>Luxury SUV</td>\n",
       "      <td>Web</td>\n",
       "      <td>No</td>\n",
       "    </tr>\n",
       "    <tr>\n",
       "      <th>10908</th>\n",
       "      <td>10908</td>\n",
       "      <td>California</td>\n",
       "      <td>11971.977650</td>\n",
       "      <td>College</td>\n",
       "      <td>F</td>\n",
       "      <td>64195</td>\n",
       "      <td>158</td>\n",
       "      <td>4.0</td>\n",
       "      <td>Personal Auto</td>\n",
       "      <td>618.288849</td>\n",
       "      <td>SUV</td>\n",
       "      <td>Branch</td>\n",
       "      <td>No</td>\n",
       "    </tr>\n",
       "    <tr>\n",
       "      <th>10909</th>\n",
       "      <td>10909</td>\n",
       "      <td>NaN</td>\n",
       "      <td>6857.519928</td>\n",
       "      <td>Bachelor</td>\n",
       "      <td>M</td>\n",
       "      <td>0</td>\n",
       "      <td>101</td>\n",
       "      <td>0.0</td>\n",
       "      <td>Personal Auto</td>\n",
       "      <td>1021.719397</td>\n",
       "      <td>SUV</td>\n",
       "      <td>Web</td>\n",
       "      <td>NaN</td>\n",
       "    </tr>\n",
       "  </tbody>\n",
       "</table>\n",
       "<p>10910 rows × 13 columns</p>\n",
       "</div>"
      ],
      "text/plain": [
       "       unnamed: 0       state  customer lifetime value education gender  \\\n",
       "0               0     Arizona              4809.216960   College      M   \n",
       "1               1  California              2228.525238   College      F   \n",
       "2               2  Washington             14947.917300  Bachelor      M   \n",
       "3               3      Oregon             22332.439460   College      M   \n",
       "4               4      Oregon              9025.067525  Bachelor      F   \n",
       "...           ...         ...                      ...       ...    ...   \n",
       "10905       10905      Nevada             15563.369440  Bachelor      F   \n",
       "10906       10906      Oregon              5259.444853   College      F   \n",
       "10907       10907     Arizona             23893.304100  Bachelor      F   \n",
       "10908       10908  California             11971.977650   College      F   \n",
       "10909       10909         NaN              6857.519928  Bachelor      M   \n",
       "\n",
       "       income  monthly premium auto  number of open complaints  \\\n",
       "0       48029                    61                        0.0   \n",
       "1           0                    64                        0.0   \n",
       "2       22139                   100                        0.0   \n",
       "3       49078                    97                        0.0   \n",
       "4       23675                   117                        NaN   \n",
       "...       ...                   ...                        ...   \n",
       "10905       0                   253                        NaN   \n",
       "10906   61146                    65                        0.0   \n",
       "10907   39837                   201                        0.0   \n",
       "10908   64195                   158                        4.0   \n",
       "10909       0                   101                        0.0   \n",
       "\n",
       "          policy type  total claim amount  vehicle class sales channel  \\\n",
       "0      Corporate Auto          292.800000  Four-Door Car         Agent   \n",
       "1       Personal Auto          744.924331  Four-Door Car   Call Center   \n",
       "2       Personal Auto          480.000000            SUV   Call Center   \n",
       "3      Corporate Auto          484.013411  Four-Door Car        Branch   \n",
       "4       Personal Auto          707.925645  Four-Door Car        Branch   \n",
       "...               ...                 ...            ...           ...   \n",
       "10905   Personal Auto         1214.400000     Luxury Car           Web   \n",
       "10906   Personal Auto          273.018929  Four-Door Car        Branch   \n",
       "10907  Corporate Auto          381.306996     Luxury SUV           Web   \n",
       "10908   Personal Auto          618.288849            SUV        Branch   \n",
       "10909   Personal Auto         1021.719397            SUV           Web   \n",
       "\n",
       "      response  \n",
       "0           No  \n",
       "1           No  \n",
       "2           No  \n",
       "3          Yes  \n",
       "4           No  \n",
       "...        ...  \n",
       "10905       No  \n",
       "10906       No  \n",
       "10907       No  \n",
       "10908       No  \n",
       "10909      NaN  \n",
       "\n",
       "[10910 rows x 13 columns]"
      ]
     },
     "execution_count": 687,
     "metadata": {},
     "output_type": "execute_result"
    }
   ],
   "source": [
    "# Set all headers to lower case\n",
    "\n",
    "def lower_case_column_names(df):\n",
    "    df.columns = [i.lower() for i in df.columns]\n",
    "    return df\n",
    "lower_case_column_names(df)"
   ]
  },
  {
   "cell_type": "markdown",
   "metadata": {},
   "source": [
    "- Deleting and rearranging columns – delete the column customer as it is only a unique identifier for each row of data\n"
   ]
  },
  {
   "cell_type": "code",
   "execution_count": 688,
   "metadata": {},
   "outputs": [],
   "source": [
    "def delete_column(df):\n",
    "   df = df.drop(columns=[\"unnamed: 0\"], inplace=True)\n",
    "   return df\n",
    "\n",
    "delete_column(df)"
   ]
  },
  {
   "cell_type": "markdown",
   "metadata": {},
   "source": [
    "- Working with data types – Check the data types of all the columns and fix the incorrect ones (for ex. customer lifetime value and number of complaints )\n"
   ]
  },
  {
   "cell_type": "code",
   "execution_count": 689,
   "metadata": {},
   "outputs": [
    {
     "name": "stdout",
     "output_type": "stream",
     "text": [
      "<class 'pandas.core.frame.DataFrame'>\n",
      "RangeIndex: 10910 entries, 0 to 10909\n",
      "Data columns (total 12 columns):\n",
      " #   Column                     Non-Null Count  Dtype  \n",
      "---  ------                     --------------  -----  \n",
      " 0   state                      10279 non-null  object \n",
      " 1   customer lifetime value    10910 non-null  float64\n",
      " 2   education                  10910 non-null  object \n",
      " 3   gender                     10910 non-null  object \n",
      " 4   income                     10910 non-null  int64  \n",
      " 5   monthly premium auto       10910 non-null  int64  \n",
      " 6   number of open complaints  10277 non-null  float64\n",
      " 7   policy type                10910 non-null  object \n",
      " 8   total claim amount         10910 non-null  float64\n",
      " 9   vehicle class              10288 non-null  object \n",
      " 10  sales channel              10910 non-null  object \n",
      " 11  response                   10279 non-null  object \n",
      "dtypes: float64(3), int64(2), object(7)\n",
      "memory usage: 1022.9+ KB\n"
     ]
    }
   ],
   "source": [
    "# Check the data types\n",
    "\n",
    "df.info()"
   ]
  },
  {
   "cell_type": "code",
   "execution_count": 690,
   "metadata": {},
   "outputs": [],
   "source": [
    "# Convert to numeric data types\n",
    "\n",
    "df[\"customer lifetime value\"] =  pd.to_numeric(df[\"customer lifetime value\"], errors='coerce')\n",
    "df[\"number of open complaints\"] = pd.to_numeric(df[\"number of open complaints\"], errors='coerce')\n",
    "df[\"total claim amount\"] = pd.to_numeric(df[\"total claim amount\"], errors='coerce')\n"
   ]
  },
  {
   "cell_type": "code",
   "execution_count": 691,
   "metadata": {},
   "outputs": [
    {
     "name": "stdout",
     "output_type": "stream",
     "text": [
      "<class 'pandas.core.frame.DataFrame'>\n",
      "RangeIndex: 10910 entries, 0 to 10909\n",
      "Data columns (total 12 columns):\n",
      " #   Column                     Non-Null Count  Dtype  \n",
      "---  ------                     --------------  -----  \n",
      " 0   state                      10279 non-null  object \n",
      " 1   customer lifetime value    10910 non-null  float64\n",
      " 2   education                  10910 non-null  object \n",
      " 3   gender                     10910 non-null  object \n",
      " 4   income                     10910 non-null  int64  \n",
      " 5   monthly premium auto       10910 non-null  int64  \n",
      " 6   number of open complaints  10277 non-null  float64\n",
      " 7   policy type                10910 non-null  object \n",
      " 8   total claim amount         10910 non-null  float64\n",
      " 9   vehicle class              10288 non-null  object \n",
      " 10  sales channel              10910 non-null  object \n",
      " 11  response                   10279 non-null  object \n",
      "dtypes: float64(3), int64(2), object(7)\n",
      "memory usage: 1022.9+ KB\n"
     ]
    }
   ],
   "source": [
    "df.info()"
   ]
  },
  {
   "cell_type": "markdown",
   "metadata": {},
   "source": [
    "- Filtering data and Correcting typos – Filter the data in state and gender column to standardize the texts in those columns\n"
   ]
  },
  {
   "cell_type": "code",
   "execution_count": 692,
   "metadata": {},
   "outputs": [
    {
     "data": {
      "text/plain": [
       "state                        6.0\n",
       "customer lifetime value      0.0\n",
       "education                    0.0\n",
       "gender                       0.0\n",
       "income                       0.0\n",
       "monthly premium auto         0.0\n",
       "number of open complaints    6.0\n",
       "policy type                  0.0\n",
       "total claim amount           0.0\n",
       "vehicle class                6.0\n",
       "sales channel                0.0\n",
       "response                     6.0\n",
       "dtype: float64"
      ]
     },
     "execution_count": 692,
     "metadata": {},
     "output_type": "execute_result"
    }
   ],
   "source": [
    "# Check the % of na/ empty values in the data set\n",
    "\n",
    "round(df.isna().sum()/len(df),2)*100"
   ]
  },
  {
   "cell_type": "code",
   "execution_count": 693,
   "metadata": {},
   "outputs": [
    {
     "data": {
      "text/plain": [
       "California    3552\n",
       "Oregon        2909\n",
       "Arizona       1937\n",
       "Nevada         993\n",
       "Washington     888\n",
       "Name: state, dtype: int64"
      ]
     },
     "execution_count": 693,
     "metadata": {},
     "output_type": "execute_result"
    }
   ],
   "source": [
    "# Check the unique values in the column \"state\"\n",
    "\n",
    "df[\"state\"].value_counts()\n"
   ]
  },
  {
   "cell_type": "code",
   "execution_count": 694,
   "metadata": {},
   "outputs": [],
   "source": [
    "# Standardize inputs in \"state\"\n",
    "\n",
    "def clean_state(x):\n",
    "    if x in ['Cali']:\n",
    "        return 'California'\n",
    "    elif x in ['AZ']:\n",
    "        return 'Arizona'\n",
    "    elif x in ['WA']:\n",
    "        return 'Washington'\n",
    "    elif x in ['Oregon']:\n",
    "        return 'Oregon'\n",
    "    else:\n",
    "        return 'Nevada'"
   ]
  },
  {
   "cell_type": "code",
   "execution_count": 695,
   "metadata": {},
   "outputs": [],
   "source": [
    "# Update the column with clean_state\n",
    "\n",
    "df['state'] = list(map(clean_state, df['state']))"
   ]
  },
  {
   "cell_type": "code",
   "execution_count": 696,
   "metadata": {},
   "outputs": [
    {
     "data": {
      "text/plain": [
       "array(['Nevada', 'Oregon'], dtype=object)"
      ]
     },
     "execution_count": 696,
     "metadata": {},
     "output_type": "execute_result"
    }
   ],
   "source": [
    "# Duplicate labels removed\n",
    "\n",
    "df['state'].unique()"
   ]
  },
  {
   "cell_type": "code",
   "execution_count": 697,
   "metadata": {},
   "outputs": [
    {
     "data": {
      "text/plain": [
       "F    5573\n",
       "M    5337\n",
       "Name: gender, dtype: int64"
      ]
     },
     "execution_count": 697,
     "metadata": {},
     "output_type": "execute_result"
    }
   ],
   "source": [
    "# Standardize the inputs for \"gender\"\n",
    "\n",
    "df['gender'].value_counts(dropna=False)"
   ]
  },
  {
   "cell_type": "code",
   "execution_count": 698,
   "metadata": {},
   "outputs": [],
   "source": [
    "# Define a function for clean_gender\n",
    "\n",
    "def clean_gender(x):\n",
    "    if x in [\"F\",\"female\",\"Femal\"]:\n",
    "        return \"F\"\n",
    "    elif x in (\"M\",\"Male\"):\n",
    "        return \"M\"\n",
    "    else:\n",
    "        return \"U\""
   ]
  },
  {
   "cell_type": "code",
   "execution_count": 699,
   "metadata": {},
   "outputs": [],
   "source": [
    "df[\"gender\"] = list(map(clean_gender, df[\"gender\"]))"
   ]
  },
  {
   "cell_type": "code",
   "execution_count": 700,
   "metadata": {},
   "outputs": [
    {
     "data": {
      "text/plain": [
       "F    5573\n",
       "M    5337\n",
       "Name: gender, dtype: int64"
      ]
     },
     "execution_count": 700,
     "metadata": {},
     "output_type": "execute_result"
    }
   ],
   "source": [
    "df[\"gender\"].value_counts(dropna=False)"
   ]
  },
  {
   "cell_type": "markdown",
   "metadata": {},
   "source": [
    "- Removing duplicates"
   ]
  },
  {
   "cell_type": "code",
   "execution_count": 701,
   "metadata": {},
   "outputs": [
    {
     "data": {
      "text/html": [
       "<div>\n",
       "<style scoped>\n",
       "    .dataframe tbody tr th:only-of-type {\n",
       "        vertical-align: middle;\n",
       "    }\n",
       "\n",
       "    .dataframe tbody tr th {\n",
       "        vertical-align: top;\n",
       "    }\n",
       "\n",
       "    .dataframe thead th {\n",
       "        text-align: right;\n",
       "    }\n",
       "</style>\n",
       "<table border=\"1\" class=\"dataframe\">\n",
       "  <thead>\n",
       "    <tr style=\"text-align: right;\">\n",
       "      <th></th>\n",
       "      <th>state</th>\n",
       "      <th>customer lifetime value</th>\n",
       "      <th>education</th>\n",
       "      <th>gender</th>\n",
       "      <th>income</th>\n",
       "      <th>monthly premium auto</th>\n",
       "      <th>number of open complaints</th>\n",
       "      <th>policy type</th>\n",
       "      <th>total claim amount</th>\n",
       "      <th>vehicle class</th>\n",
       "      <th>sales channel</th>\n",
       "      <th>response</th>\n",
       "    </tr>\n",
       "  </thead>\n",
       "  <tbody>\n",
       "    <tr>\n",
       "      <th>0</th>\n",
       "      <td>Nevada</td>\n",
       "      <td>4809.216960</td>\n",
       "      <td>College</td>\n",
       "      <td>M</td>\n",
       "      <td>48029</td>\n",
       "      <td>61</td>\n",
       "      <td>0.0</td>\n",
       "      <td>Corporate Auto</td>\n",
       "      <td>292.800000</td>\n",
       "      <td>Four-Door Car</td>\n",
       "      <td>Agent</td>\n",
       "      <td>No</td>\n",
       "    </tr>\n",
       "    <tr>\n",
       "      <th>1</th>\n",
       "      <td>Nevada</td>\n",
       "      <td>2228.525238</td>\n",
       "      <td>College</td>\n",
       "      <td>F</td>\n",
       "      <td>0</td>\n",
       "      <td>64</td>\n",
       "      <td>0.0</td>\n",
       "      <td>Personal Auto</td>\n",
       "      <td>744.924331</td>\n",
       "      <td>Four-Door Car</td>\n",
       "      <td>Call Center</td>\n",
       "      <td>No</td>\n",
       "    </tr>\n",
       "    <tr>\n",
       "      <th>2</th>\n",
       "      <td>Nevada</td>\n",
       "      <td>14947.917300</td>\n",
       "      <td>Bachelor</td>\n",
       "      <td>M</td>\n",
       "      <td>22139</td>\n",
       "      <td>100</td>\n",
       "      <td>0.0</td>\n",
       "      <td>Personal Auto</td>\n",
       "      <td>480.000000</td>\n",
       "      <td>SUV</td>\n",
       "      <td>Call Center</td>\n",
       "      <td>No</td>\n",
       "    </tr>\n",
       "    <tr>\n",
       "      <th>3</th>\n",
       "      <td>Oregon</td>\n",
       "      <td>22332.439460</td>\n",
       "      <td>College</td>\n",
       "      <td>M</td>\n",
       "      <td>49078</td>\n",
       "      <td>97</td>\n",
       "      <td>0.0</td>\n",
       "      <td>Corporate Auto</td>\n",
       "      <td>484.013411</td>\n",
       "      <td>Four-Door Car</td>\n",
       "      <td>Branch</td>\n",
       "      <td>Yes</td>\n",
       "    </tr>\n",
       "    <tr>\n",
       "      <th>4</th>\n",
       "      <td>Oregon</td>\n",
       "      <td>9025.067525</td>\n",
       "      <td>Bachelor</td>\n",
       "      <td>F</td>\n",
       "      <td>23675</td>\n",
       "      <td>117</td>\n",
       "      <td>NaN</td>\n",
       "      <td>Personal Auto</td>\n",
       "      <td>707.925645</td>\n",
       "      <td>Four-Door Car</td>\n",
       "      <td>Branch</td>\n",
       "      <td>No</td>\n",
       "    </tr>\n",
       "    <tr>\n",
       "      <th>...</th>\n",
       "      <td>...</td>\n",
       "      <td>...</td>\n",
       "      <td>...</td>\n",
       "      <td>...</td>\n",
       "      <td>...</td>\n",
       "      <td>...</td>\n",
       "      <td>...</td>\n",
       "      <td>...</td>\n",
       "      <td>...</td>\n",
       "      <td>...</td>\n",
       "      <td>...</td>\n",
       "      <td>...</td>\n",
       "    </tr>\n",
       "    <tr>\n",
       "      <th>10905</th>\n",
       "      <td>Nevada</td>\n",
       "      <td>15563.369440</td>\n",
       "      <td>Bachelor</td>\n",
       "      <td>F</td>\n",
       "      <td>0</td>\n",
       "      <td>253</td>\n",
       "      <td>NaN</td>\n",
       "      <td>Personal Auto</td>\n",
       "      <td>1214.400000</td>\n",
       "      <td>Luxury Car</td>\n",
       "      <td>Web</td>\n",
       "      <td>No</td>\n",
       "    </tr>\n",
       "    <tr>\n",
       "      <th>10906</th>\n",
       "      <td>Oregon</td>\n",
       "      <td>5259.444853</td>\n",
       "      <td>College</td>\n",
       "      <td>F</td>\n",
       "      <td>61146</td>\n",
       "      <td>65</td>\n",
       "      <td>0.0</td>\n",
       "      <td>Personal Auto</td>\n",
       "      <td>273.018929</td>\n",
       "      <td>Four-Door Car</td>\n",
       "      <td>Branch</td>\n",
       "      <td>No</td>\n",
       "    </tr>\n",
       "    <tr>\n",
       "      <th>10907</th>\n",
       "      <td>Nevada</td>\n",
       "      <td>23893.304100</td>\n",
       "      <td>Bachelor</td>\n",
       "      <td>F</td>\n",
       "      <td>39837</td>\n",
       "      <td>201</td>\n",
       "      <td>0.0</td>\n",
       "      <td>Corporate Auto</td>\n",
       "      <td>381.306996</td>\n",
       "      <td>Luxury SUV</td>\n",
       "      <td>Web</td>\n",
       "      <td>No</td>\n",
       "    </tr>\n",
       "    <tr>\n",
       "      <th>10908</th>\n",
       "      <td>Nevada</td>\n",
       "      <td>11971.977650</td>\n",
       "      <td>College</td>\n",
       "      <td>F</td>\n",
       "      <td>64195</td>\n",
       "      <td>158</td>\n",
       "      <td>4.0</td>\n",
       "      <td>Personal Auto</td>\n",
       "      <td>618.288849</td>\n",
       "      <td>SUV</td>\n",
       "      <td>Branch</td>\n",
       "      <td>No</td>\n",
       "    </tr>\n",
       "    <tr>\n",
       "      <th>10909</th>\n",
       "      <td>Nevada</td>\n",
       "      <td>6857.519928</td>\n",
       "      <td>Bachelor</td>\n",
       "      <td>M</td>\n",
       "      <td>0</td>\n",
       "      <td>101</td>\n",
       "      <td>0.0</td>\n",
       "      <td>Personal Auto</td>\n",
       "      <td>1021.719397</td>\n",
       "      <td>SUV</td>\n",
       "      <td>Web</td>\n",
       "      <td>NaN</td>\n",
       "    </tr>\n",
       "  </tbody>\n",
       "</table>\n",
       "<p>10187 rows × 12 columns</p>\n",
       "</div>"
      ],
      "text/plain": [
       "        state  customer lifetime value education gender  income  \\\n",
       "0      Nevada              4809.216960   College      M   48029   \n",
       "1      Nevada              2228.525238   College      F       0   \n",
       "2      Nevada             14947.917300  Bachelor      M   22139   \n",
       "3      Oregon             22332.439460   College      M   49078   \n",
       "4      Oregon              9025.067525  Bachelor      F   23675   \n",
       "...       ...                      ...       ...    ...     ...   \n",
       "10905  Nevada             15563.369440  Bachelor      F       0   \n",
       "10906  Oregon              5259.444853   College      F   61146   \n",
       "10907  Nevada             23893.304100  Bachelor      F   39837   \n",
       "10908  Nevada             11971.977650   College      F   64195   \n",
       "10909  Nevada              6857.519928  Bachelor      M       0   \n",
       "\n",
       "       monthly premium auto  number of open complaints     policy type  \\\n",
       "0                        61                        0.0  Corporate Auto   \n",
       "1                        64                        0.0   Personal Auto   \n",
       "2                       100                        0.0   Personal Auto   \n",
       "3                        97                        0.0  Corporate Auto   \n",
       "4                       117                        NaN   Personal Auto   \n",
       "...                     ...                        ...             ...   \n",
       "10905                   253                        NaN   Personal Auto   \n",
       "10906                    65                        0.0   Personal Auto   \n",
       "10907                   201                        0.0  Corporate Auto   \n",
       "10908                   158                        4.0   Personal Auto   \n",
       "10909                   101                        0.0   Personal Auto   \n",
       "\n",
       "       total claim amount  vehicle class sales channel response  \n",
       "0              292.800000  Four-Door Car         Agent       No  \n",
       "1              744.924331  Four-Door Car   Call Center       No  \n",
       "2              480.000000            SUV   Call Center       No  \n",
       "3              484.013411  Four-Door Car        Branch      Yes  \n",
       "4              707.925645  Four-Door Car        Branch       No  \n",
       "...                   ...            ...           ...      ...  \n",
       "10905         1214.400000     Luxury Car           Web       No  \n",
       "10906          273.018929  Four-Door Car        Branch       No  \n",
       "10907          381.306996     Luxury SUV           Web       No  \n",
       "10908          618.288849            SUV        Branch       No  \n",
       "10909         1021.719397            SUV           Web      NaN  \n",
       "\n",
       "[10187 rows x 12 columns]"
      ]
     },
     "execution_count": 701,
     "metadata": {},
     "output_type": "execute_result"
    }
   ],
   "source": [
    "df.drop_duplicates()"
   ]
  },
  {
   "cell_type": "markdown",
   "metadata": {},
   "source": [
    "- Replacing null values – Replace missing values with means of the column (for numerical columns)\n"
   ]
  },
  {
   "cell_type": "code",
   "execution_count": 702,
   "metadata": {},
   "outputs": [],
   "source": [
    "# What is the % of na values?\n",
    "\n",
    "na_df = pd.DataFrame(round(df.isna().sum()/len(df),4)*100)"
   ]
  },
  {
   "cell_type": "code",
   "execution_count": 703,
   "metadata": {},
   "outputs": [],
   "source": [
    "\n",
    "nulls_df = pd.DataFrame(round(df.isnull().sum()/len(df),4)*100)"
   ]
  },
  {
   "cell_type": "code",
   "execution_count": 704,
   "metadata": {},
   "outputs": [
    {
     "data": {
      "text/html": [
       "<div>\n",
       "<style scoped>\n",
       "    .dataframe tbody tr th:only-of-type {\n",
       "        vertical-align: middle;\n",
       "    }\n",
       "\n",
       "    .dataframe tbody tr th {\n",
       "        vertical-align: top;\n",
       "    }\n",
       "\n",
       "    .dataframe thead th {\n",
       "        text-align: right;\n",
       "    }\n",
       "</style>\n",
       "<table border=\"1\" class=\"dataframe\">\n",
       "  <thead>\n",
       "    <tr style=\"text-align: right;\">\n",
       "      <th></th>\n",
       "      <th>0</th>\n",
       "    </tr>\n",
       "  </thead>\n",
       "  <tbody>\n",
       "    <tr>\n",
       "      <th>state</th>\n",
       "      <td>0.00</td>\n",
       "    </tr>\n",
       "    <tr>\n",
       "      <th>customer lifetime value</th>\n",
       "      <td>0.00</td>\n",
       "    </tr>\n",
       "    <tr>\n",
       "      <th>education</th>\n",
       "      <td>0.00</td>\n",
       "    </tr>\n",
       "    <tr>\n",
       "      <th>gender</th>\n",
       "      <td>0.00</td>\n",
       "    </tr>\n",
       "    <tr>\n",
       "      <th>income</th>\n",
       "      <td>0.00</td>\n",
       "    </tr>\n",
       "    <tr>\n",
       "      <th>monthly premium auto</th>\n",
       "      <td>0.00</td>\n",
       "    </tr>\n",
       "    <tr>\n",
       "      <th>number of open complaints</th>\n",
       "      <td>5.80</td>\n",
       "    </tr>\n",
       "    <tr>\n",
       "      <th>policy type</th>\n",
       "      <td>0.00</td>\n",
       "    </tr>\n",
       "    <tr>\n",
       "      <th>total claim amount</th>\n",
       "      <td>0.00</td>\n",
       "    </tr>\n",
       "    <tr>\n",
       "      <th>vehicle class</th>\n",
       "      <td>5.70</td>\n",
       "    </tr>\n",
       "    <tr>\n",
       "      <th>sales channel</th>\n",
       "      <td>0.00</td>\n",
       "    </tr>\n",
       "    <tr>\n",
       "      <th>response</th>\n",
       "      <td>5.78</td>\n",
       "    </tr>\n",
       "  </tbody>\n",
       "</table>\n",
       "</div>"
      ],
      "text/plain": [
       "                              0\n",
       "state                      0.00\n",
       "customer lifetime value    0.00\n",
       "education                  0.00\n",
       "gender                     0.00\n",
       "income                     0.00\n",
       "monthly premium auto       0.00\n",
       "number of open complaints  5.80\n",
       "policy type                0.00\n",
       "total claim amount         0.00\n",
       "vehicle class              5.70\n",
       "sales channel              0.00\n",
       "response                   5.78"
      ]
     },
     "execution_count": 704,
     "metadata": {},
     "output_type": "execute_result"
    }
   ],
   "source": [
    "nulls_df"
   ]
  },
  {
   "cell_type": "code",
   "execution_count": 705,
   "metadata": {},
   "outputs": [
    {
     "data": {
      "text/html": [
       "<div>\n",
       "<style scoped>\n",
       "    .dataframe tbody tr th:only-of-type {\n",
       "        vertical-align: middle;\n",
       "    }\n",
       "\n",
       "    .dataframe tbody tr th {\n",
       "        vertical-align: top;\n",
       "    }\n",
       "\n",
       "    .dataframe thead th {\n",
       "        text-align: right;\n",
       "    }\n",
       "</style>\n",
       "<table border=\"1\" class=\"dataframe\">\n",
       "  <thead>\n",
       "    <tr style=\"text-align: right;\">\n",
       "      <th></th>\n",
       "      <th>customer lifetime value</th>\n",
       "      <th>income</th>\n",
       "      <th>monthly premium auto</th>\n",
       "      <th>number of open complaints</th>\n",
       "      <th>total claim amount</th>\n",
       "    </tr>\n",
       "  </thead>\n",
       "  <tbody>\n",
       "    <tr>\n",
       "      <th>0</th>\n",
       "      <td>4809.2</td>\n",
       "      <td>48029</td>\n",
       "      <td>61</td>\n",
       "      <td>0.0</td>\n",
       "      <td>292.8</td>\n",
       "    </tr>\n",
       "    <tr>\n",
       "      <th>1</th>\n",
       "      <td>2228.5</td>\n",
       "      <td>0</td>\n",
       "      <td>64</td>\n",
       "      <td>0.0</td>\n",
       "      <td>744.9</td>\n",
       "    </tr>\n",
       "    <tr>\n",
       "      <th>2</th>\n",
       "      <td>14947.9</td>\n",
       "      <td>22139</td>\n",
       "      <td>100</td>\n",
       "      <td>0.0</td>\n",
       "      <td>480.0</td>\n",
       "    </tr>\n",
       "    <tr>\n",
       "      <th>3</th>\n",
       "      <td>22332.4</td>\n",
       "      <td>49078</td>\n",
       "      <td>97</td>\n",
       "      <td>0.0</td>\n",
       "      <td>484.0</td>\n",
       "    </tr>\n",
       "    <tr>\n",
       "      <th>4</th>\n",
       "      <td>9025.1</td>\n",
       "      <td>23675</td>\n",
       "      <td>117</td>\n",
       "      <td>NaN</td>\n",
       "      <td>707.9</td>\n",
       "    </tr>\n",
       "    <tr>\n",
       "      <th>...</th>\n",
       "      <td>...</td>\n",
       "      <td>...</td>\n",
       "      <td>...</td>\n",
       "      <td>...</td>\n",
       "      <td>...</td>\n",
       "    </tr>\n",
       "    <tr>\n",
       "      <th>10905</th>\n",
       "      <td>15563.4</td>\n",
       "      <td>0</td>\n",
       "      <td>253</td>\n",
       "      <td>NaN</td>\n",
       "      <td>1214.4</td>\n",
       "    </tr>\n",
       "    <tr>\n",
       "      <th>10906</th>\n",
       "      <td>5259.4</td>\n",
       "      <td>61146</td>\n",
       "      <td>65</td>\n",
       "      <td>0.0</td>\n",
       "      <td>273.0</td>\n",
       "    </tr>\n",
       "    <tr>\n",
       "      <th>10907</th>\n",
       "      <td>23893.3</td>\n",
       "      <td>39837</td>\n",
       "      <td>201</td>\n",
       "      <td>0.0</td>\n",
       "      <td>381.3</td>\n",
       "    </tr>\n",
       "    <tr>\n",
       "      <th>10908</th>\n",
       "      <td>11972.0</td>\n",
       "      <td>64195</td>\n",
       "      <td>158</td>\n",
       "      <td>4.0</td>\n",
       "      <td>618.3</td>\n",
       "    </tr>\n",
       "    <tr>\n",
       "      <th>10909</th>\n",
       "      <td>6857.5</td>\n",
       "      <td>0</td>\n",
       "      <td>101</td>\n",
       "      <td>0.0</td>\n",
       "      <td>1021.7</td>\n",
       "    </tr>\n",
       "  </tbody>\n",
       "</table>\n",
       "<p>10910 rows × 5 columns</p>\n",
       "</div>"
      ],
      "text/plain": [
       "       customer lifetime value  income  monthly premium auto  \\\n",
       "0                       4809.2   48029                    61   \n",
       "1                       2228.5       0                    64   \n",
       "2                      14947.9   22139                   100   \n",
       "3                      22332.4   49078                    97   \n",
       "4                       9025.1   23675                   117   \n",
       "...                        ...     ...                   ...   \n",
       "10905                  15563.4       0                   253   \n",
       "10906                   5259.4   61146                    65   \n",
       "10907                  23893.3   39837                   201   \n",
       "10908                  11972.0   64195                   158   \n",
       "10909                   6857.5       0                   101   \n",
       "\n",
       "       number of open complaints  total claim amount  \n",
       "0                            0.0               292.8  \n",
       "1                            0.0               744.9  \n",
       "2                            0.0               480.0  \n",
       "3                            0.0               484.0  \n",
       "4                            NaN               707.9  \n",
       "...                          ...                 ...  \n",
       "10905                        NaN              1214.4  \n",
       "10906                        0.0               273.0  \n",
       "10907                        0.0               381.3  \n",
       "10908                        4.0               618.3  \n",
       "10909                        0.0              1021.7  \n",
       "\n",
       "[10910 rows x 5 columns]"
      ]
     },
     "execution_count": 705,
     "metadata": {},
     "output_type": "execute_result"
    }
   ],
   "source": [
    "# Find out the numeric columns\n",
    "\n",
    "round(df._get_numeric_data(),1)"
   ]
  },
  {
   "cell_type": "code",
   "execution_count": 706,
   "metadata": {},
   "outputs": [],
   "source": [
    "# Filter the empty numeric data\n",
    "\n",
    "df = df[df['customer lifetime value'].isna()==False]\n",
    "df = df[df['income'].isna()==False]\n",
    "df = df[df['monthly premium auto'].isna()==False]\n",
    "df = df[df['number of open complaints'].isna()==False]\n",
    "df = df[df['total claim amount'].isna()==False]"
   ]
  },
  {
   "cell_type": "code",
   "execution_count": 707,
   "metadata": {},
   "outputs": [],
   "source": [
    "\n",
    "# Fill in the empty data with the mean of each variable\n",
    "\n",
    "mean_customer_lifetime_value = np.mean(df['customer lifetime value'])\n",
    "df['customer lifetime value'] = df['customer lifetime value'].fillna(mean_customer_lifetime_value)\n",
    "\n",
    "# monthly premium auto\n",
    "mean_monthly_premium_auto = np.mean(df['monthly premium auto'])\n",
    "df['monthly premium auto'] = df['monthly premium auto'].fillna(mean_monthly_premium_auto)\n",
    "\n",
    "# number of open complaints\n",
    "mean_number_open_complaints = np.mean(df['number of open complaints'])\n",
    "df['number of open complaints'] = df['number of open complaints'].fillna(mean_number_open_complaints)\n",
    "\n",
    "# mean total claims\n",
    "mean_total_claim_amount = np.mean(df['total claim amount'])\n",
    "df['total claim amount'] = df['total claim amount'].fillna(mean_total_claim_amount)"
   ]
  },
  {
   "cell_type": "code",
   "execution_count": 708,
   "metadata": {},
   "outputs": [],
   "source": [
    "# Income (no empty data, so fill in the 0 values with the mean)\n",
    "mean_income = np.mean(df['income'])\n",
    "df['income'] = df['income'].replace(0,df['income'].mean())\n"
   ]
  },
  {
   "cell_type": "code",
   "execution_count": 709,
   "metadata": {},
   "outputs": [
    {
     "data": {
      "text/plain": [
       "0"
      ]
     },
     "execution_count": 709,
     "metadata": {},
     "output_type": "execute_result"
    }
   ],
   "source": [
    "len(df[df['customer lifetime value'].isna()==True])"
   ]
  },
  {
   "cell_type": "markdown",
   "metadata": {},
   "source": [
    "# Activity 2"
   ]
  },
  {
   "cell_type": "markdown",
   "metadata": {},
   "source": [
    "- Bucketing the data - Write a function to replace column \"State\" to different zones. California as West Region, Oregon as North West, and Washington as East, and Arizona and Nevada as Central"
   ]
  },
  {
   "cell_type": "code",
   "execution_count": 710,
   "metadata": {},
   "outputs": [
    {
     "data": {
      "text/plain": [
       "<function __main__.states_binned(state)>"
      ]
     },
     "execution_count": 710,
     "metadata": {},
     "output_type": "execute_result"
    }
   ],
   "source": [
    "\n",
    "state_regions = ['West Region', 'North West', 'East', 'Central']\n",
    "\n",
    "def states_binned(state):\n",
    "    if state == \"California\":\n",
    "        return \"West Region\"\n",
    "    elif state == \"Oregon\":\n",
    "        return \"North West\"\n",
    "    elif state == \"Washington\":\n",
    "        return \"East\"\n",
    "    else: return \"Central\"\n",
    "\n",
    "states_binned\n"
   ]
  },
  {
   "cell_type": "code",
   "execution_count": 711,
   "metadata": {},
   "outputs": [
    {
     "data": {
      "text/html": [
       "<div>\n",
       "<style scoped>\n",
       "    .dataframe tbody tr th:only-of-type {\n",
       "        vertical-align: middle;\n",
       "    }\n",
       "\n",
       "    .dataframe tbody tr th {\n",
       "        vertical-align: top;\n",
       "    }\n",
       "\n",
       "    .dataframe thead th {\n",
       "        text-align: right;\n",
       "    }\n",
       "</style>\n",
       "<table border=\"1\" class=\"dataframe\">\n",
       "  <thead>\n",
       "    <tr style=\"text-align: right;\">\n",
       "      <th></th>\n",
       "      <th>state</th>\n",
       "      <th>customer lifetime value</th>\n",
       "      <th>education</th>\n",
       "      <th>gender</th>\n",
       "      <th>income</th>\n",
       "      <th>monthly premium auto</th>\n",
       "      <th>number of open complaints</th>\n",
       "      <th>policy type</th>\n",
       "      <th>total claim amount</th>\n",
       "      <th>vehicle class</th>\n",
       "      <th>sales channel</th>\n",
       "      <th>response</th>\n",
       "      <th>state_binned</th>\n",
       "    </tr>\n",
       "  </thead>\n",
       "  <tbody>\n",
       "    <tr>\n",
       "      <th>0</th>\n",
       "      <td>Nevada</td>\n",
       "      <td>4809.216960</td>\n",
       "      <td>College</td>\n",
       "      <td>M</td>\n",
       "      <td>48029.000000</td>\n",
       "      <td>61</td>\n",
       "      <td>0.0</td>\n",
       "      <td>Corporate Auto</td>\n",
       "      <td>292.800000</td>\n",
       "      <td>Four-Door Car</td>\n",
       "      <td>Agent</td>\n",
       "      <td>No</td>\n",
       "      <td>Central</td>\n",
       "    </tr>\n",
       "    <tr>\n",
       "      <th>1</th>\n",
       "      <td>Nevada</td>\n",
       "      <td>2228.525238</td>\n",
       "      <td>College</td>\n",
       "      <td>F</td>\n",
       "      <td>37648.597743</td>\n",
       "      <td>64</td>\n",
       "      <td>0.0</td>\n",
       "      <td>Personal Auto</td>\n",
       "      <td>744.924331</td>\n",
       "      <td>Four-Door Car</td>\n",
       "      <td>Call Center</td>\n",
       "      <td>No</td>\n",
       "      <td>Central</td>\n",
       "    </tr>\n",
       "    <tr>\n",
       "      <th>2</th>\n",
       "      <td>Nevada</td>\n",
       "      <td>14947.917300</td>\n",
       "      <td>Bachelor</td>\n",
       "      <td>M</td>\n",
       "      <td>22139.000000</td>\n",
       "      <td>100</td>\n",
       "      <td>0.0</td>\n",
       "      <td>Personal Auto</td>\n",
       "      <td>480.000000</td>\n",
       "      <td>SUV</td>\n",
       "      <td>Call Center</td>\n",
       "      <td>No</td>\n",
       "      <td>Central</td>\n",
       "    </tr>\n",
       "    <tr>\n",
       "      <th>3</th>\n",
       "      <td>Oregon</td>\n",
       "      <td>22332.439460</td>\n",
       "      <td>College</td>\n",
       "      <td>M</td>\n",
       "      <td>49078.000000</td>\n",
       "      <td>97</td>\n",
       "      <td>0.0</td>\n",
       "      <td>Corporate Auto</td>\n",
       "      <td>484.013411</td>\n",
       "      <td>Four-Door Car</td>\n",
       "      <td>Branch</td>\n",
       "      <td>Yes</td>\n",
       "      <td>North West</td>\n",
       "    </tr>\n",
       "    <tr>\n",
       "      <th>5</th>\n",
       "      <td>Nevada</td>\n",
       "      <td>4745.181764</td>\n",
       "      <td>High School or Below</td>\n",
       "      <td>M</td>\n",
       "      <td>50549.000000</td>\n",
       "      <td>61</td>\n",
       "      <td>0.0</td>\n",
       "      <td>Personal Auto</td>\n",
       "      <td>292.800000</td>\n",
       "      <td>Four-Door Car</td>\n",
       "      <td>Agent</td>\n",
       "      <td>NaN</td>\n",
       "      <td>Central</td>\n",
       "    </tr>\n",
       "    <tr>\n",
       "      <th>6</th>\n",
       "      <td>Nevada</td>\n",
       "      <td>5035.035257</td>\n",
       "      <td>Doctor</td>\n",
       "      <td>F</td>\n",
       "      <td>37405.000000</td>\n",
       "      <td>63</td>\n",
       "      <td>3.0</td>\n",
       "      <td>Corporate Auto</td>\n",
       "      <td>287.556107</td>\n",
       "      <td>Four-Door Car</td>\n",
       "      <td>Branch</td>\n",
       "      <td>No</td>\n",
       "      <td>Central</td>\n",
       "    </tr>\n",
       "    <tr>\n",
       "      <th>7</th>\n",
       "      <td>Nevada</td>\n",
       "      <td>4956.247235</td>\n",
       "      <td>High School or Below</td>\n",
       "      <td>M</td>\n",
       "      <td>87197.000000</td>\n",
       "      <td>63</td>\n",
       "      <td>0.0</td>\n",
       "      <td>Personal Auto</td>\n",
       "      <td>247.402353</td>\n",
       "      <td>Two-Door Car</td>\n",
       "      <td>Branch</td>\n",
       "      <td>No</td>\n",
       "      <td>Central</td>\n",
       "    </tr>\n",
       "    <tr>\n",
       "      <th>8</th>\n",
       "      <td>Nevada</td>\n",
       "      <td>5989.773931</td>\n",
       "      <td>College</td>\n",
       "      <td>M</td>\n",
       "      <td>66839.000000</td>\n",
       "      <td>154</td>\n",
       "      <td>0.0</td>\n",
       "      <td>Personal Auto</td>\n",
       "      <td>739.200000</td>\n",
       "      <td>Sports Car</td>\n",
       "      <td>Branch</td>\n",
       "      <td>Yes</td>\n",
       "      <td>Central</td>\n",
       "    </tr>\n",
       "    <tr>\n",
       "      <th>9</th>\n",
       "      <td>Oregon</td>\n",
       "      <td>17114.328150</td>\n",
       "      <td>Master</td>\n",
       "      <td>F</td>\n",
       "      <td>70961.000000</td>\n",
       "      <td>85</td>\n",
       "      <td>0.0</td>\n",
       "      <td>Corporate Auto</td>\n",
       "      <td>408.000000</td>\n",
       "      <td>Four-Door Car</td>\n",
       "      <td>Agent</td>\n",
       "      <td>No</td>\n",
       "      <td>North West</td>\n",
       "    </tr>\n",
       "    <tr>\n",
       "      <th>10</th>\n",
       "      <td>Nevada</td>\n",
       "      <td>5154.764074</td>\n",
       "      <td>High School or Below</td>\n",
       "      <td>M</td>\n",
       "      <td>82730.000000</td>\n",
       "      <td>127</td>\n",
       "      <td>0.0</td>\n",
       "      <td>Corporate Auto</td>\n",
       "      <td>442.521087</td>\n",
       "      <td>SUV</td>\n",
       "      <td>Branch</td>\n",
       "      <td>No</td>\n",
       "      <td>Central</td>\n",
       "    </tr>\n",
       "  </tbody>\n",
       "</table>\n",
       "</div>"
      ],
      "text/plain": [
       "     state  customer lifetime value             education gender  \\\n",
       "0   Nevada              4809.216960               College      M   \n",
       "1   Nevada              2228.525238               College      F   \n",
       "2   Nevada             14947.917300              Bachelor      M   \n",
       "3   Oregon             22332.439460               College      M   \n",
       "5   Nevada              4745.181764  High School or Below      M   \n",
       "6   Nevada              5035.035257                Doctor      F   \n",
       "7   Nevada              4956.247235  High School or Below      M   \n",
       "8   Nevada              5989.773931               College      M   \n",
       "9   Oregon             17114.328150                Master      F   \n",
       "10  Nevada              5154.764074  High School or Below      M   \n",
       "\n",
       "          income  monthly premium auto  number of open complaints  \\\n",
       "0   48029.000000                    61                        0.0   \n",
       "1   37648.597743                    64                        0.0   \n",
       "2   22139.000000                   100                        0.0   \n",
       "3   49078.000000                    97                        0.0   \n",
       "5   50549.000000                    61                        0.0   \n",
       "6   37405.000000                    63                        3.0   \n",
       "7   87197.000000                    63                        0.0   \n",
       "8   66839.000000                   154                        0.0   \n",
       "9   70961.000000                    85                        0.0   \n",
       "10  82730.000000                   127                        0.0   \n",
       "\n",
       "       policy type  total claim amount  vehicle class sales channel response  \\\n",
       "0   Corporate Auto          292.800000  Four-Door Car         Agent       No   \n",
       "1    Personal Auto          744.924331  Four-Door Car   Call Center       No   \n",
       "2    Personal Auto          480.000000            SUV   Call Center       No   \n",
       "3   Corporate Auto          484.013411  Four-Door Car        Branch      Yes   \n",
       "5    Personal Auto          292.800000  Four-Door Car         Agent      NaN   \n",
       "6   Corporate Auto          287.556107  Four-Door Car        Branch       No   \n",
       "7    Personal Auto          247.402353   Two-Door Car        Branch       No   \n",
       "8    Personal Auto          739.200000     Sports Car        Branch      Yes   \n",
       "9   Corporate Auto          408.000000  Four-Door Car         Agent       No   \n",
       "10  Corporate Auto          442.521087            SUV        Branch       No   \n",
       "\n",
       "   state_binned  \n",
       "0       Central  \n",
       "1       Central  \n",
       "2       Central  \n",
       "3    North West  \n",
       "5       Central  \n",
       "6       Central  \n",
       "7       Central  \n",
       "8       Central  \n",
       "9    North West  \n",
       "10      Central  "
      ]
     },
     "execution_count": 711,
     "metadata": {},
     "output_type": "execute_result"
    }
   ],
   "source": [
    "# Add new columne\n",
    "\n",
    "df[\"state_binned\"] = list(map(states_binned,df[\"state\"]))\n",
    "\n",
    "df.head(10)"
   ]
  },
  {
   "cell_type": "code",
   "execution_count": 712,
   "metadata": {},
   "outputs": [
    {
     "data": {
      "text/html": [
       "<div>\n",
       "<style scoped>\n",
       "    .dataframe tbody tr th:only-of-type {\n",
       "        vertical-align: middle;\n",
       "    }\n",
       "\n",
       "    .dataframe tbody tr th {\n",
       "        vertical-align: top;\n",
       "    }\n",
       "\n",
       "    .dataframe thead th {\n",
       "        text-align: right;\n",
       "    }\n",
       "</style>\n",
       "<table border=\"1\" class=\"dataframe\">\n",
       "  <thead>\n",
       "    <tr style=\"text-align: right;\">\n",
       "      <th></th>\n",
       "      <th>customer lifetime value</th>\n",
       "      <th>education</th>\n",
       "      <th>gender</th>\n",
       "      <th>income</th>\n",
       "      <th>monthly premium auto</th>\n",
       "      <th>number of open complaints</th>\n",
       "      <th>policy type</th>\n",
       "      <th>total claim amount</th>\n",
       "      <th>vehicle class</th>\n",
       "      <th>sales channel</th>\n",
       "      <th>response</th>\n",
       "      <th>state_binned</th>\n",
       "    </tr>\n",
       "  </thead>\n",
       "  <tbody>\n",
       "    <tr>\n",
       "      <th>0</th>\n",
       "      <td>4809.216960</td>\n",
       "      <td>College</td>\n",
       "      <td>M</td>\n",
       "      <td>48029.000000</td>\n",
       "      <td>61</td>\n",
       "      <td>0.0</td>\n",
       "      <td>Corporate Auto</td>\n",
       "      <td>292.800000</td>\n",
       "      <td>Four-Door Car</td>\n",
       "      <td>Agent</td>\n",
       "      <td>No</td>\n",
       "      <td>Central</td>\n",
       "    </tr>\n",
       "    <tr>\n",
       "      <th>1</th>\n",
       "      <td>2228.525238</td>\n",
       "      <td>College</td>\n",
       "      <td>F</td>\n",
       "      <td>37648.597743</td>\n",
       "      <td>64</td>\n",
       "      <td>0.0</td>\n",
       "      <td>Personal Auto</td>\n",
       "      <td>744.924331</td>\n",
       "      <td>Four-Door Car</td>\n",
       "      <td>Call Center</td>\n",
       "      <td>No</td>\n",
       "      <td>Central</td>\n",
       "    </tr>\n",
       "    <tr>\n",
       "      <th>2</th>\n",
       "      <td>14947.917300</td>\n",
       "      <td>Bachelor</td>\n",
       "      <td>M</td>\n",
       "      <td>22139.000000</td>\n",
       "      <td>100</td>\n",
       "      <td>0.0</td>\n",
       "      <td>Personal Auto</td>\n",
       "      <td>480.000000</td>\n",
       "      <td>SUV</td>\n",
       "      <td>Call Center</td>\n",
       "      <td>No</td>\n",
       "      <td>Central</td>\n",
       "    </tr>\n",
       "    <tr>\n",
       "      <th>3</th>\n",
       "      <td>22332.439460</td>\n",
       "      <td>College</td>\n",
       "      <td>M</td>\n",
       "      <td>49078.000000</td>\n",
       "      <td>97</td>\n",
       "      <td>0.0</td>\n",
       "      <td>Corporate Auto</td>\n",
       "      <td>484.013411</td>\n",
       "      <td>Four-Door Car</td>\n",
       "      <td>Branch</td>\n",
       "      <td>Yes</td>\n",
       "      <td>North West</td>\n",
       "    </tr>\n",
       "    <tr>\n",
       "      <th>5</th>\n",
       "      <td>4745.181764</td>\n",
       "      <td>High School or Below</td>\n",
       "      <td>M</td>\n",
       "      <td>50549.000000</td>\n",
       "      <td>61</td>\n",
       "      <td>0.0</td>\n",
       "      <td>Personal Auto</td>\n",
       "      <td>292.800000</td>\n",
       "      <td>Four-Door Car</td>\n",
       "      <td>Agent</td>\n",
       "      <td>NaN</td>\n",
       "      <td>Central</td>\n",
       "    </tr>\n",
       "    <tr>\n",
       "      <th>...</th>\n",
       "      <td>...</td>\n",
       "      <td>...</td>\n",
       "      <td>...</td>\n",
       "      <td>...</td>\n",
       "      <td>...</td>\n",
       "      <td>...</td>\n",
       "      <td>...</td>\n",
       "      <td>...</td>\n",
       "      <td>...</td>\n",
       "      <td>...</td>\n",
       "      <td>...</td>\n",
       "      <td>...</td>\n",
       "    </tr>\n",
       "    <tr>\n",
       "      <th>10904</th>\n",
       "      <td>19228.463620</td>\n",
       "      <td>High School or Below</td>\n",
       "      <td>M</td>\n",
       "      <td>37648.597743</td>\n",
       "      <td>187</td>\n",
       "      <td>0.0</td>\n",
       "      <td>Personal Auto</td>\n",
       "      <td>897.600000</td>\n",
       "      <td>Luxury SUV</td>\n",
       "      <td>Branch</td>\n",
       "      <td>No</td>\n",
       "      <td>Central</td>\n",
       "    </tr>\n",
       "    <tr>\n",
       "      <th>10906</th>\n",
       "      <td>5259.444853</td>\n",
       "      <td>College</td>\n",
       "      <td>F</td>\n",
       "      <td>61146.000000</td>\n",
       "      <td>65</td>\n",
       "      <td>0.0</td>\n",
       "      <td>Personal Auto</td>\n",
       "      <td>273.018929</td>\n",
       "      <td>Four-Door Car</td>\n",
       "      <td>Branch</td>\n",
       "      <td>No</td>\n",
       "      <td>North West</td>\n",
       "    </tr>\n",
       "    <tr>\n",
       "      <th>10907</th>\n",
       "      <td>23893.304100</td>\n",
       "      <td>Bachelor</td>\n",
       "      <td>F</td>\n",
       "      <td>39837.000000</td>\n",
       "      <td>201</td>\n",
       "      <td>0.0</td>\n",
       "      <td>Corporate Auto</td>\n",
       "      <td>381.306996</td>\n",
       "      <td>Luxury SUV</td>\n",
       "      <td>Web</td>\n",
       "      <td>No</td>\n",
       "      <td>Central</td>\n",
       "    </tr>\n",
       "    <tr>\n",
       "      <th>10908</th>\n",
       "      <td>11971.977650</td>\n",
       "      <td>College</td>\n",
       "      <td>F</td>\n",
       "      <td>64195.000000</td>\n",
       "      <td>158</td>\n",
       "      <td>4.0</td>\n",
       "      <td>Personal Auto</td>\n",
       "      <td>618.288849</td>\n",
       "      <td>SUV</td>\n",
       "      <td>Branch</td>\n",
       "      <td>No</td>\n",
       "      <td>Central</td>\n",
       "    </tr>\n",
       "    <tr>\n",
       "      <th>10909</th>\n",
       "      <td>6857.519928</td>\n",
       "      <td>Bachelor</td>\n",
       "      <td>M</td>\n",
       "      <td>37648.597743</td>\n",
       "      <td>101</td>\n",
       "      <td>0.0</td>\n",
       "      <td>Personal Auto</td>\n",
       "      <td>1021.719397</td>\n",
       "      <td>SUV</td>\n",
       "      <td>Web</td>\n",
       "      <td>NaN</td>\n",
       "      <td>Central</td>\n",
       "    </tr>\n",
       "  </tbody>\n",
       "</table>\n",
       "<p>10277 rows × 12 columns</p>\n",
       "</div>"
      ],
      "text/plain": [
       "       customer lifetime value             education gender        income  \\\n",
       "0                  4809.216960               College      M  48029.000000   \n",
       "1                  2228.525238               College      F  37648.597743   \n",
       "2                 14947.917300              Bachelor      M  22139.000000   \n",
       "3                 22332.439460               College      M  49078.000000   \n",
       "5                  4745.181764  High School or Below      M  50549.000000   \n",
       "...                        ...                   ...    ...           ...   \n",
       "10904             19228.463620  High School or Below      M  37648.597743   \n",
       "10906              5259.444853               College      F  61146.000000   \n",
       "10907             23893.304100              Bachelor      F  39837.000000   \n",
       "10908             11971.977650               College      F  64195.000000   \n",
       "10909              6857.519928              Bachelor      M  37648.597743   \n",
       "\n",
       "       monthly premium auto  number of open complaints     policy type  \\\n",
       "0                        61                        0.0  Corporate Auto   \n",
       "1                        64                        0.0   Personal Auto   \n",
       "2                       100                        0.0   Personal Auto   \n",
       "3                        97                        0.0  Corporate Auto   \n",
       "5                        61                        0.0   Personal Auto   \n",
       "...                     ...                        ...             ...   \n",
       "10904                   187                        0.0   Personal Auto   \n",
       "10906                    65                        0.0   Personal Auto   \n",
       "10907                   201                        0.0  Corporate Auto   \n",
       "10908                   158                        4.0   Personal Auto   \n",
       "10909                   101                        0.0   Personal Auto   \n",
       "\n",
       "       total claim amount  vehicle class sales channel response state_binned  \n",
       "0              292.800000  Four-Door Car         Agent       No      Central  \n",
       "1              744.924331  Four-Door Car   Call Center       No      Central  \n",
       "2              480.000000            SUV   Call Center       No      Central  \n",
       "3              484.013411  Four-Door Car        Branch      Yes   North West  \n",
       "5              292.800000  Four-Door Car         Agent      NaN      Central  \n",
       "...                   ...            ...           ...      ...          ...  \n",
       "10904          897.600000     Luxury SUV        Branch       No      Central  \n",
       "10906          273.018929  Four-Door Car        Branch       No   North West  \n",
       "10907          381.306996     Luxury SUV           Web       No      Central  \n",
       "10908          618.288849            SUV        Branch       No      Central  \n",
       "10909         1021.719397            SUV           Web      NaN      Central  \n",
       "\n",
       "[10277 rows x 12 columns]"
      ]
     },
     "execution_count": 712,
     "metadata": {},
     "output_type": "execute_result"
    }
   ],
   "source": [
    "# Delete column \"state\"\n",
    "\n",
    "df.drop(columns=['state'])"
   ]
  },
  {
   "cell_type": "markdown",
   "metadata": {},
   "source": [
    "- Standardizing the data – Use string functions to standardize the text data (lower case)"
   ]
  },
  {
   "cell_type": "code",
   "execution_count": 713,
   "metadata": {},
   "outputs": [
    {
     "data": {
      "text/html": [
       "<div>\n",
       "<style scoped>\n",
       "    .dataframe tbody tr th:only-of-type {\n",
       "        vertical-align: middle;\n",
       "    }\n",
       "\n",
       "    .dataframe tbody tr th {\n",
       "        vertical-align: top;\n",
       "    }\n",
       "\n",
       "    .dataframe thead th {\n",
       "        text-align: right;\n",
       "    }\n",
       "</style>\n",
       "<table border=\"1\" class=\"dataframe\">\n",
       "  <thead>\n",
       "    <tr style=\"text-align: right;\">\n",
       "      <th></th>\n",
       "      <th>state</th>\n",
       "      <th>customer lifetime value</th>\n",
       "      <th>education</th>\n",
       "      <th>gender</th>\n",
       "      <th>income</th>\n",
       "      <th>monthly premium auto</th>\n",
       "      <th>number of open complaints</th>\n",
       "      <th>policy type</th>\n",
       "      <th>total claim amount</th>\n",
       "      <th>vehicle class</th>\n",
       "      <th>sales channel</th>\n",
       "      <th>response</th>\n",
       "      <th>state_binned</th>\n",
       "    </tr>\n",
       "  </thead>\n",
       "  <tbody>\n",
       "    <tr>\n",
       "      <th>0</th>\n",
       "      <td>nevada</td>\n",
       "      <td>4809.21696</td>\n",
       "      <td>college</td>\n",
       "      <td>m</td>\n",
       "      <td>48029.0</td>\n",
       "      <td>61</td>\n",
       "      <td>0.0</td>\n",
       "      <td>corporate auto</td>\n",
       "      <td>292.8</td>\n",
       "      <td>four-door car</td>\n",
       "      <td>agent</td>\n",
       "      <td>no</td>\n",
       "      <td>central</td>\n",
       "    </tr>\n",
       "    <tr>\n",
       "      <th>1</th>\n",
       "      <td>nevada</td>\n",
       "      <td>2228.525238</td>\n",
       "      <td>college</td>\n",
       "      <td>f</td>\n",
       "      <td>37648.59774253187</td>\n",
       "      <td>64</td>\n",
       "      <td>0.0</td>\n",
       "      <td>personal auto</td>\n",
       "      <td>744.924331</td>\n",
       "      <td>four-door car</td>\n",
       "      <td>call center</td>\n",
       "      <td>no</td>\n",
       "      <td>central</td>\n",
       "    </tr>\n",
       "  </tbody>\n",
       "</table>\n",
       "</div>"
      ],
      "text/plain": [
       "    state customer lifetime value education gender             income  \\\n",
       "0  nevada              4809.21696   college      m            48029.0   \n",
       "1  nevada             2228.525238   college      f  37648.59774253187   \n",
       "\n",
       "  monthly premium auto number of open complaints     policy type  \\\n",
       "0                   61                       0.0  corporate auto   \n",
       "1                   64                       0.0   personal auto   \n",
       "\n",
       "  total claim amount  vehicle class sales channel response state_binned  \n",
       "0              292.8  four-door car         agent       no      central  \n",
       "1         744.924331  four-door car   call center       no      central  "
      ]
     },
     "execution_count": 713,
     "metadata": {},
     "output_type": "execute_result"
    }
   ],
   "source": [
    "df = df.astype(str).apply(lambda x: x.str.lower())\n",
    "df.head(2)"
   ]
  },
  {
   "cell_type": "markdown",
   "metadata": {},
   "source": [
    "# Activity 3"
   ]
  },
  {
   "cell_type": "markdown",
   "metadata": {},
   "source": [
    "- Which columns are numerical?"
   ]
  },
  {
   "cell_type": "code",
   "execution_count": 714,
   "metadata": {},
   "outputs": [
    {
     "name": "stdout",
     "output_type": "stream",
     "text": [
      "<class 'pandas.core.frame.DataFrame'>\n",
      "Int64Index: 10277 entries, 0 to 10909\n",
      "Data columns (total 13 columns):\n",
      " #   Column                     Non-Null Count  Dtype \n",
      "---  ------                     --------------  ----- \n",
      " 0   state                      10277 non-null  object\n",
      " 1   customer lifetime value    10277 non-null  object\n",
      " 2   education                  10277 non-null  object\n",
      " 3   gender                     10277 non-null  object\n",
      " 4   income                     10277 non-null  object\n",
      " 5   monthly premium auto       10277 non-null  object\n",
      " 6   number of open complaints  10277 non-null  object\n",
      " 7   policy type                10277 non-null  object\n",
      " 8   total claim amount         10277 non-null  object\n",
      " 9   vehicle class              10277 non-null  object\n",
      " 10  sales channel              10277 non-null  object\n",
      " 11  response                   10277 non-null  object\n",
      " 12  state_binned               10277 non-null  object\n",
      "dtypes: object(13)\n",
      "memory usage: 1.1+ MB\n"
     ]
    }
   ],
   "source": [
    "df.info()"
   ]
  },
  {
   "cell_type": "code",
   "execution_count": 715,
   "metadata": {},
   "outputs": [],
   "source": [
    "numerics = ['int16', 'int32', 'int64', 'float16', 'float32', 'float64']\n",
    "\n",
    "df_num = df.select_dtypes(include=numerics)"
   ]
  },
  {
   "cell_type": "code",
   "execution_count": 716,
   "metadata": {},
   "outputs": [
    {
     "data": {
      "text/plain": [
       "[]"
      ]
     },
     "execution_count": 716,
     "metadata": {},
     "output_type": "execute_result"
    }
   ],
   "source": [
    "list(df_num.columns)"
   ]
  },
  {
   "cell_type": "markdown",
   "metadata": {},
   "source": [
    "- Which columns are categorical?"
   ]
  },
  {
   "cell_type": "code",
   "execution_count": 717,
   "metadata": {},
   "outputs": [],
   "source": [
    "categorical = ['object']\n",
    "\n",
    "df_cat = df.select_dtypes(include=categorical)\n"
   ]
  },
  {
   "cell_type": "code",
   "execution_count": 718,
   "metadata": {},
   "outputs": [
    {
     "data": {
      "text/plain": [
       "['state',\n",
       " 'customer lifetime value',\n",
       " 'education',\n",
       " 'gender',\n",
       " 'income',\n",
       " 'monthly premium auto',\n",
       " 'number of open complaints',\n",
       " 'policy type',\n",
       " 'total claim amount',\n",
       " 'vehicle class',\n",
       " 'sales channel',\n",
       " 'response',\n",
       " 'state_binned']"
      ]
     },
     "execution_count": 718,
     "metadata": {},
     "output_type": "execute_result"
    }
   ],
   "source": [
    "list(df_cat.columns)"
   ]
  },
  {
   "cell_type": "markdown",
   "metadata": {},
   "source": [
    "# Activity 4"
   ]
  },
  {
   "cell_type": "markdown",
   "metadata": {},
   "source": [
    "- Show a plot of the total number of responses."
   ]
  },
  {
   "cell_type": "code",
   "execution_count": 719,
   "metadata": {},
   "outputs": [
    {
     "data": {
      "text/plain": [
       "Text(0.5, 1.0, 'Total_number_responses')"
      ]
     },
     "execution_count": 719,
     "metadata": {},
     "output_type": "execute_result"
    },
    {
     "data": {
      "image/png": "[encoded data removed]",
      "text/plain": [
       "<Figure size 432x288 with 1 Axes>"
      ]
     },
     "metadata": {
      "needs_background": "light"
     },
     "output_type": "display_data"
    }
   ],
   "source": [
    "total_number_responses = df[\"response\"].value_counts(\"Yes\")\n",
    "total_number_responses.plot.bar()\n",
    "plt.title('Total_number_responses')"
   ]
  },
  {
   "cell_type": "markdown",
   "metadata": {},
   "source": [
    "- Show a plot of the response rate by the sales channel."
   ]
  },
  {
   "cell_type": "code",
   "execution_count": 720,
   "metadata": {},
   "outputs": [
    {
     "data": {
      "text/plain": [
       "sales channel  response\n",
       "agent          nan          217\n",
       "               no          2967\n",
       "               yes          703\n",
       "branch         nan          147\n",
       "               no          2412\n",
       "               yes          312\n",
       "call center    nan          120\n",
       "               no          1669\n",
       "               yes          209\n",
       "web            nan          105\n",
       "               no          1252\n",
       "               yes          164\n",
       "Name: count, dtype: int64"
      ]
     },
     "execution_count": 720,
     "metadata": {},
     "output_type": "execute_result"
    }
   ],
   "source": [
    "response_rate_by_sales_channel = df.groupby(['sales channel', 'response'])['response'].count().rename('count')\n",
    "response_rate_by_sales_channel"
   ]
  },
  {
   "cell_type": "code",
   "execution_count": 721,
   "metadata": {},
   "outputs": [
    {
     "data": {
      "text/plain": [
       "Text(0.5, 1.0, 'response_rate_by_sales_channel')"
      ]
     },
     "execution_count": 721,
     "metadata": {},
     "output_type": "execute_result"
    },
    {
     "data": {
      "image/png": "[encoded data removed]",
      "text/plain": [
       "<Figure size 432x288 with 1 Axes>"
      ]
     },
     "metadata": {
      "needs_background": "light"
     },
     "output_type": "display_data"
    }
   ],
   "source": [
    "response_rate_by_sales_channel.plot.bar()\n",
    "plt.title('response_rate_by_sales_channel')"
   ]
  },
  {
   "cell_type": "markdown",
   "metadata": {},
   "source": [
    "- Show a plot of the response rate by the total claim amount"
   ]
  },
  {
   "cell_type": "code",
   "execution_count": 722,
   "metadata": {},
   "outputs": [
    {
     "data": {
      "text/html": [
       "<div>\n",
       "<style scoped>\n",
       "    .dataframe tbody tr th:only-of-type {\n",
       "        vertical-align: middle;\n",
       "    }\n",
       "\n",
       "    .dataframe tbody tr th {\n",
       "        vertical-align: top;\n",
       "    }\n",
       "\n",
       "    .dataframe thead tr th {\n",
       "        text-align: left;\n",
       "    }\n",
       "\n",
       "    .dataframe thead tr:last-of-type th {\n",
       "        text-align: right;\n",
       "    }\n",
       "</style>\n",
       "<table border=\"1\" class=\"dataframe\">\n",
       "  <thead>\n",
       "    <tr>\n",
       "      <th></th>\n",
       "      <th>response</th>\n",
       "      <th>total claim amount</th>\n",
       "    </tr>\n",
       "    <tr>\n",
       "      <th></th>\n",
       "      <th>count</th>\n",
       "      <th>sum</th>\n",
       "    </tr>\n",
       "    <tr>\n",
       "      <th>response</th>\n",
       "      <th></th>\n",
       "      <th></th>\n",
       "    </tr>\n",
       "  </thead>\n",
       "  <tbody>\n",
       "    <tr>\n",
       "      <th>nan</th>\n",
       "      <td>589</td>\n",
       "      <td>292.8199.551735469.882367351.85681292.8481.025...</td>\n",
       "    </tr>\n",
       "    <tr>\n",
       "      <th>no</th>\n",
       "      <td>8300</td>\n",
       "      <td>292.8744.924331480.0287.556107247.402353408.04...</td>\n",
       "    </tr>\n",
       "    <tr>\n",
       "      <th>yes</th>\n",
       "      <td>1388</td>\n",
       "      <td>484.013411739.2547.219.57568360.036683302.4374...</td>\n",
       "    </tr>\n",
       "  </tbody>\n",
       "</table>\n",
       "</div>"
      ],
      "text/plain": [
       "         response                                 total claim amount\n",
       "            count                                                sum\n",
       "response                                                            \n",
       "nan           589  292.8199.551735469.882367351.85681292.8481.025...\n",
       "no           8300  292.8744.924331480.0287.556107247.402353408.04...\n",
       "yes          1388  484.013411739.2547.219.57568360.036683302.4374..."
      ]
     },
     "execution_count": 722,
     "metadata": {},
     "output_type": "execute_result"
    }
   ],
   "source": [
    "response_rate_by_total_claim_amount = df.groupby('response').agg({\"response\":[\"count\"], \"total claim amount\":[\"sum\"]})\n",
    "response_rate_by_total_claim_amount\n"
   ]
  },
  {
   "cell_type": "code",
   "execution_count": 723,
   "metadata": {},
   "outputs": [
    {
     "data": {
      "text/plain": [
       "Text(0.5, 1.0, 'response_rate_by_total_claim_amount')"
      ]
     },
     "execution_count": 723,
     "metadata": {},
     "output_type": "execute_result"
    },
    {
     "data": {
      "image/png": "[encoded data removed]",
      "text/plain": [
       "<Figure size 432x288 with 1 Axes>"
      ]
     },
     "metadata": {
      "needs_background": "light"
     },
     "output_type": "display_data"
    }
   ],
   "source": [
    "response_rate_by_total_claim_amount.plot.bar()\n",
    "plt.title('response_rate_by_total_claim_amount')"
   ]
  },
  {
   "cell_type": "markdown",
   "metadata": {},
   "source": [
    "- Show a plot of the response rate by income."
   ]
  },
  {
   "cell_type": "code",
   "execution_count": null,
   "metadata": {},
   "outputs": [],
   "source": []
  },
  {
   "cell_type": "markdown",
   "metadata": {},
   "source": [
    "- Plot the Correlation Heatmap."
   ]
  },
  {
   "cell_type": "code",
   "execution_count": 724,
   "metadata": {},
   "outputs": [],
   "source": [
    "numeric_values= round(df._get_numeric_data(),1)"
   ]
  },
  {
   "cell_type": "code",
   "execution_count": 2,
   "metadata": {},
   "outputs": [],
   "source": [
    "\n",
    "#corr = np.corrcoef(numeric_values)\n",
    "#mask = np.zeros_like(corr)\n",
    "#mask[np.triu_indices_from(mask)] = True\n",
    "#with sns.axes_style(\"white\"):\n",
    "#    ax = sns.heatmap(corr, mask=mask, vmax=.3, square=True,  cmap=\"YlGnBu\")\n",
    "#    plt.show()"
   ]
  },
  {
   "cell_type": "markdown",
   "metadata": {},
   "source": [
    "# Activity 5"
   ]
  },
  {
   "cell_type": "code",
   "execution_count": null,
   "metadata": {},
   "outputs": [],
   "source": []
  },
  {
   "cell_type": "code",
   "execution_count": null,
   "metadata": {},
   "outputs": [],
   "source": []
  }
 ],
 "metadata": {
  "interpreter": {
   "hash": "07ac440bbbaf6d9b672d92feac27897283d5feac08d9f50b66f8e3f73309b8bb"
  },
  "kernelspec": {
   "display_name": "Python 3.9.6 64-bit ('DA_Envi': conda)",
   "name": "python3"
  },
  "language_info": {
   "codemirror_mode": {
    "name": "ipython",
    "version": 3
   },
   "file_extension": ".py",
   "mimetype": "text/x-python",
   "name": "python",
   "nbconvert_exporter": "python",
   "pygments_lexer": "ipython3",
   "version": "3.9.6"
  },
  "orig_nbformat": 4
 },
 "nbformat": 4,
 "nbformat_minor": 2
}
