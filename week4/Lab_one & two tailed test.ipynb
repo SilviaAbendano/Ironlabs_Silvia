{
 "cells": [
  {
   "cell_type": "markdown",
   "id": "c93e6c3a",
   "metadata": {},
   "source": [
    "# Instructions\n",
    "It is assumed that the mean systolic blood pressure is μ = 120 mm Hg. In the Honolulu Heart Study, a sample of n = 100 people had an average systolic blood pressure of 130.1 mm Hg with a standard deviation of 21.21 mm Hg. Is the group significantly different (with respect to systolic blood pressure!) from the regular population?\n",
    "\n",
    "Set up the hypothesis test.\n",
    "Write down all the steps followed for setting up the test.\n",
    "Calculate the test statistic by hand and also code it in Python. It should be 4.76190. What decision can you make based on this calculated value?\n",
    "\n",
    "\n",
    "\n",
    "In a packing plant, a machine packs cartons with jars. It is supposed that a new machine will pack faster on the average than the machine currently used. To test that hypothesis, the times it takes each machine to pack ten cartons are recorded. The results, in seconds, are shown in the tables in the file Data/machine.txt. Assume that there is sufficient evidence to conduct the t test, does the data provide sufficient evidence to show if one machine is better than the other"
   ]
  },
  {
   "cell_type": "code",
   "execution_count": 2,
   "id": "407d922b",
   "metadata": {},
   "outputs": [],
   "source": [
    "import numpy as np\n",
    "import pandas as pd\n",
    "import scipy.stats as stats\n",
    "from scipy.stats import ttest_1samp\n",
    "import math"
   ]
  },
  {
   "cell_type": "code",
   "execution_count": 3,
   "id": "fb066672",
   "metadata": {},
   "outputs": [
    {
     "data": {
      "text/plain": [
       "4.761904761904759"
      ]
     },
     "execution_count": 3,
     "metadata": {},
     "output_type": "execute_result"
    }
   ],
   "source": [
    "# one sampled, one sided test\n",
    "#H0= the group is significantly different (with respect to systolic blood pressure!) from the regular population\n",
    "#HA= the group is not significantly different (with respect to systolic blood pressure!) from the regular population\n",
    "z = (130.1-120)/(21.21/math.sqrt(100))\n",
    "z"
   ]
  },
  {
   "cell_type": "code",
   "execution_count": 4,
   "id": "44bd676a",
   "metadata": {},
   "outputs": [
    {
     "data": {
      "text/plain": [
       "-1.6448536269514722"
      ]
     },
     "execution_count": 4,
     "metadata": {},
     "output_type": "execute_result"
    }
   ],
   "source": [
    "zc= +- stats.norm.ppf(0.95)\n",
    "zc"
   ]
  },
  {
   "cell_type": "markdown",
   "id": "0ca0df3b",
   "metadata": {},
   "source": [
    "### Null hypothesis is rejected as z<zc"
   ]
  },
  {
   "cell_type": "code",
   "execution_count": 6,
   "id": "e6f50271",
   "metadata": {},
   "outputs": [],
   "source": [
    "new_m = [42.1, 41, 41.3, 41.8, 42.4, 42.8, 43.2, 42.3, 41.8, 42.7]\n",
    "\n",
    "old_m= [42.7, 43.6, 43.8, 43.3, 42.5, 43.5, 43.1, 41.7, 44, 44.1]"
   ]
  },
  {
   "cell_type": "code",
   "execution_count": 7,
   "id": "c09fee33",
   "metadata": {},
   "outputs": [],
   "source": [
    "data_old=pd.DataFrame(new_m)\n",
    "data_old= pd.DataFrame(old_m)"
   ]
  },
  {
   "cell_type": "code",
   "execution_count": 8,
   "id": "bac49bde",
   "metadata": {},
   "outputs": [
    {
     "name": "stdout",
     "output_type": "stream",
     "text": [
      "42.14 and 43.230000000000004\n"
     ]
    }
   ],
   "source": [
    "#mean\n",
    "m_new=np.mean(new_m)\n",
    "m_old=np.mean(old_m)\n",
    "print(m_new,'and',m_old)"
   ]
  },
  {
   "cell_type": "code",
   "execution_count": 10,
   "id": "9d65f142",
   "metadata": {},
   "outputs": [
    {
     "name": "stdout",
     "output_type": "stream",
     "text": [
      "0.4671111111111125 and 0.5623333333333319\n"
     ]
    }
   ],
   "source": [
    "# variance\n",
    "v_new=np.var(new_m, ddof=1)\n",
    "v_old=np.var(old_m, ddof=1)\n",
    "print(v_new,'and',v_old)"
   ]
  },
  {
   "cell_type": "code",
   "execution_count": 11,
   "id": "e900fc8c",
   "metadata": {},
   "outputs": [
    {
     "data": {
      "text/plain": [
       "Ttest_indResult(statistic=-3.3972307061176026, pvalue=0.0032111425007745158)"
      ]
     },
     "execution_count": 11,
     "metadata": {},
     "output_type": "execute_result"
    }
   ],
   "source": [
    "stats.ttest_ind(new_m,old_m)"
   ]
  },
  {
   "cell_type": "code",
   "execution_count": null,
   "id": "c1323738",
   "metadata": {},
   "outputs": [],
   "source": [
    "# there is a significant difference between the new and the old maschine p<0.025"
   ]
  }
 ],
 "metadata": {
  "kernelspec": {
   "display_name": "Python 3 (ipykernel)",
   "language": "python",
   "name": "python3"
  },
  "language_info": {
   "codemirror_mode": {
    "name": "ipython",
    "version": 3
   },
   "file_extension": ".py",
   "mimetype": "text/x-python",
   "name": "python",
   "nbconvert_exporter": "python",
   "pygments_lexer": "ipython3",
   "version": "3.9.6"
  }
 },
 "nbformat": 4,
 "nbformat_minor": 5
}
